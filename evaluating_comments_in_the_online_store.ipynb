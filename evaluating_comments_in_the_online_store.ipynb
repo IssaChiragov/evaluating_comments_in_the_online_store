{
 "cells": [
  {
   "cell_type": "markdown",
   "metadata": {
    "toc": true
   },
   "source": [
    "<h1>Содержание<span class=\"tocSkip\"></span></h1>\n",
    "<div class=\"toc\"><ul class=\"toc-item\"><li><span><a href=\"#Подготовка\" data-toc-modified-id=\"Подготовка-1\"><span class=\"toc-item-num\">1&nbsp;&nbsp;</span>Подготовка</a></span><ul class=\"toc-item\"><li><span><a href=\"#Изменение-баланса-классов\" data-toc-modified-id=\"Изменение-баланса-классов-1.1\"><span class=\"toc-item-num\">1.1&nbsp;&nbsp;</span>Изменение баланса классов</a></span><ul class=\"toc-item\"><li><span><a href=\"#Изменение-весов-классов\" data-toc-modified-id=\"Изменение-весов-классов-1.1.1\"><span class=\"toc-item-num\">1.1.1&nbsp;&nbsp;</span>Изменение весов классов</a></span></li><li><span><a href=\"#Ресемплирование-с-уменьшением-класса-0\" data-toc-modified-id=\"Ресемплирование-с-уменьшением-класса-0-1.1.2\"><span class=\"toc-item-num\">1.1.2&nbsp;&nbsp;</span>Ресемплирование с уменьшением класса 0</a></span></li></ul></li></ul></li><li><span><a href=\"#Обучение\" data-toc-modified-id=\"Обучение-2\"><span class=\"toc-item-num\">2&nbsp;&nbsp;</span>Обучение</a></span><ul class=\"toc-item\"><li><span><a href=\"#Классификатор-LogisticRegression\" data-toc-modified-id=\"Классификатор-LogisticRegression-2.1\"><span class=\"toc-item-num\">2.1&nbsp;&nbsp;</span>Классификатор LogisticRegression</a></span></li><li><span><a href=\"#Классификатор-DecisionTreeClassifier\" data-toc-modified-id=\"Классификатор-DecisionTreeClassifier-2.2\"><span class=\"toc-item-num\">2.2&nbsp;&nbsp;</span>Классификатор DecisionTreeClassifier</a></span></li><li><span><a href=\"#Классификатор-CatBoostClassifier\" data-toc-modified-id=\"Классификатор-CatBoostClassifier-2.3\"><span class=\"toc-item-num\">2.3&nbsp;&nbsp;</span>Классификатор CatBoostClassifier</a></span></li><li><span><a href=\"#Классификатор-SGDClassifier\" data-toc-modified-id=\"Классификатор-SGDClassifier-2.4\"><span class=\"toc-item-num\">2.4&nbsp;&nbsp;</span>Классификатор SGDClassifier</a></span></li></ul></li><li><span><a href=\"#Выводы\" data-toc-modified-id=\"Выводы-3\"><span class=\"toc-item-num\">3&nbsp;&nbsp;</span>Выводы</a></span></li><li><span><a href=\"#Чек-лист-проверки\" data-toc-modified-id=\"Чек-лист-проверки-4\"><span class=\"toc-item-num\">4&nbsp;&nbsp;</span>Чек-лист проверки</a></span></li></ul></div>"
   ]
  },
  {
   "cell_type": "markdown",
   "metadata": {},
   "source": [
    "# Проект для «Викишоп»"
   ]
  },
  {
   "cell_type": "markdown",
   "metadata": {},
   "source": [
    "Интернет-магазин «Викишоп» запускает новый сервис. Теперь пользователи могут редактировать и дополнять описания товаров, как в вики-сообществах. То есть клиенты предлагают свои правки и комментируют изменения других. Магазину нужен инструмент, который будет искать токсичные комментарии и отправлять их на модерацию. \n",
    "\n",
    "Обучите модель классифицировать комментарии на позитивные и негативные. В вашем распоряжении набор данных с разметкой о токсичности правок.\n",
    "\n",
    "Постройте модель со значением метрики качества *F1* не меньше 0.75. \n",
    "\n",
    "**Инструкция по выполнению проекта**\n",
    "\n",
    "1. Загрузите и подготовьте данные.\n",
    "2. Обучите разные модели. \n",
    "3. Сделайте выводы.\n",
    "\n",
    "**Описание данных**\n",
    "\n",
    "Данные находятся в файле `toxic_comments.csv`. Столбец *text* в нём содержит текст комментария, а *toxic* — целевой признак."
   ]
  },
  {
   "cell_type": "code",
   "execution_count": 1,
   "metadata": {},
   "outputs": [],
   "source": [
    "import matplotlib.pyplot as plt\n",
    "import numpy as np\n",
    "import pandas as pd\n",
    "import re\n",
    "import spacy\n",
    "import nltk\n",
    "from sklearn.feature_extraction.text import TfidfVectorizer\n",
    "from sklearn.model_selection import train_test_split, cross_val_score, GridSearchCV\n",
    "from sklearn.linear_model import LogisticRegression, SGDClassifier\n",
    "from sklearn.tree import DecisionTreeClassifier\n",
    "from catboost import CatBoostClassifier\n",
    "from sklearn.metrics import f1_score, precision_score, recall_score, accuracy_score, roc_auc_score, roc_curve\n",
    "from sklearn.utils import shuffle\n",
    "import warnings\n",
    "warnings.filterwarnings('ignore')"
   ]
  },
  {
   "cell_type": "markdown",
   "metadata": {},
   "source": [
    "## Подготовка"
   ]
  },
  {
   "cell_type": "code",
   "execution_count": 2,
   "metadata": {},
   "outputs": [
    {
     "name": "stdout",
     "output_type": "stream",
     "text": [
      "<class 'pandas.core.frame.DataFrame'>\n",
      "RangeIndex: 159292 entries, 0 to 159291\n",
      "Data columns (total 3 columns):\n",
      " #   Column      Non-Null Count   Dtype \n",
      "---  ------      --------------   ----- \n",
      " 0   Unnamed: 0  159292 non-null  int64 \n",
      " 1   text        159292 non-null  object\n",
      " 2   toxic       159292 non-null  int64 \n",
      "dtypes: int64(2), object(1)\n",
      "memory usage: 3.6+ MB\n"
     ]
    }
   ],
   "source": [
    "toxic_comments = pd.read_csv('/datasets/toxic_comments.csv')\n",
    "toxic_comments.info()"
   ]
  },
  {
   "cell_type": "code",
   "execution_count": 3,
   "metadata": {},
   "outputs": [
    {
     "data": {
      "text/html": [
       "<div>\n",
       "<style scoped>\n",
       "    .dataframe tbody tr th:only-of-type {\n",
       "        vertical-align: middle;\n",
       "    }\n",
       "\n",
       "    .dataframe tbody tr th {\n",
       "        vertical-align: top;\n",
       "    }\n",
       "\n",
       "    .dataframe thead th {\n",
       "        text-align: right;\n",
       "    }\n",
       "</style>\n",
       "<table border=\"1\" class=\"dataframe\">\n",
       "  <thead>\n",
       "    <tr style=\"text-align: right;\">\n",
       "      <th></th>\n",
       "      <th>Unnamed: 0</th>\n",
       "      <th>text</th>\n",
       "      <th>toxic</th>\n",
       "    </tr>\n",
       "  </thead>\n",
       "  <tbody>\n",
       "    <tr>\n",
       "      <th>0</th>\n",
       "      <td>0</td>\n",
       "      <td>Explanation\\nWhy the edits made under my usern...</td>\n",
       "      <td>0</td>\n",
       "    </tr>\n",
       "    <tr>\n",
       "      <th>1</th>\n",
       "      <td>1</td>\n",
       "      <td>D'aww! He matches this background colour I'm s...</td>\n",
       "      <td>0</td>\n",
       "    </tr>\n",
       "    <tr>\n",
       "      <th>2</th>\n",
       "      <td>2</td>\n",
       "      <td>Hey man, I'm really not trying to edit war. It...</td>\n",
       "      <td>0</td>\n",
       "    </tr>\n",
       "    <tr>\n",
       "      <th>3</th>\n",
       "      <td>3</td>\n",
       "      <td>\"\\nMore\\nI can't make any real suggestions on ...</td>\n",
       "      <td>0</td>\n",
       "    </tr>\n",
       "    <tr>\n",
       "      <th>4</th>\n",
       "      <td>4</td>\n",
       "      <td>You, sir, are my hero. Any chance you remember...</td>\n",
       "      <td>0</td>\n",
       "    </tr>\n",
       "  </tbody>\n",
       "</table>\n",
       "</div>"
      ],
      "text/plain": [
       "   Unnamed: 0                                               text  toxic\n",
       "0           0  Explanation\\nWhy the edits made under my usern...      0\n",
       "1           1  D'aww! He matches this background colour I'm s...      0\n",
       "2           2  Hey man, I'm really not trying to edit war. It...      0\n",
       "3           3  \"\\nMore\\nI can't make any real suggestions on ...      0\n",
       "4           4  You, sir, are my hero. Any chance you remember...      0"
      ]
     },
     "execution_count": 3,
     "metadata": {},
     "output_type": "execute_result"
    }
   ],
   "source": [
    "toxic_comments.head()"
   ]
  },
  {
   "cell_type": "code",
   "execution_count": 4,
   "metadata": {},
   "outputs": [
    {
     "data": {
      "text/plain": [
       "0"
      ]
     },
     "execution_count": 4,
     "metadata": {},
     "output_type": "execute_result"
    }
   ],
   "source": [
    "toxic_comments.duplicated().sum()"
   ]
  },
  {
   "cell_type": "markdown",
   "metadata": {},
   "source": [
    "Явных дубликатов не выявлено, как и пропусков."
   ]
  },
  {
   "cell_type": "code",
   "execution_count": 5,
   "metadata": {},
   "outputs": [
    {
     "data": {
      "text/plain": [
       "0    143106\n",
       "1     16186\n",
       "Name: toxic, dtype: int64"
      ]
     },
     "metadata": {},
     "output_type": "display_data"
    },
    {
     "data": {
      "text/plain": [
       "8.841344371679229"
      ]
     },
     "execution_count": 5,
     "metadata": {},
     "output_type": "execute_result"
    }
   ],
   "source": [
    "display(toxic_comments['toxic'].value_counts())\n",
    "class_ratio = toxic_comments['toxic'].value_counts()[0] / toxic_comments['toxic'].value_counts()[1]\n",
    "class_ratio"
   ]
  },
  {
   "cell_type": "markdown",
   "metadata": {},
   "source": [
    "Классы несбалансированы. Отношение 1:8.83. Проведем поиск лучшего способа балансировки и сравним качество.\n",
    "\n",
    "- Изменение весов в модели обучения\n",
    "- Ресемплирование с уменьшением класса 0\n",
    "\n",
    "Ресемплирование с увеличением класса 1 не будем использовать из-за громоздкого набора данных.\n",
    "\n",
    "Подготовим признаки и целевой признак перед обучением."
   ]
  },
  {
   "cell_type": "code",
   "execution_count": 6,
   "metadata": {},
   "outputs": [],
   "source": [
    "nlp = spacy.load('en_core_web_sm')\n",
    "\n",
    "def lemmatize_text(text):\n",
    "    text = re.sub('[^A-Za-z]+', ' ', str(text)) #remove special character and intergers\n",
    "    doc = nlp(text)\n",
    "    cleared_text=[]\n",
    "    for token in doc:\n",
    "        if token.is_stop: #Remove Stopwords\n",
    "            pass\n",
    "        else:\n",
    "            cleared_text.append(token.lemma_.lower()) \n",
    "    return \" \".join(cleared_text)\n",
    "\n",
    "toxic_comments['lemm_text'] = toxic_comments['text'].apply(lemmatize_text)\n",
    "\n",
    "toxic_comments = toxic_comments.drop(['text'], axis=1)"
   ]
  },
  {
   "cell_type": "code",
   "execution_count": 7,
   "metadata": {},
   "outputs": [
    {
     "name": "stdout",
     "output_type": "stream",
     "text": [
      "                                                text\n",
      "0  The striped bats are hanging on their feet for...\n",
      "1      you should be ashamed of yourself went worked\n",
      "0    stripe bat hang foot good\n",
      "1              ashamed go work\n",
      "Name: text, dtype: object\n"
     ]
    }
   ],
   "source": [
    "sentence1 = \"The striped bats are hanging on their feet for best\"\n",
    "sentence2 = \"you should be ashamed of yourself went worked\"\n",
    "df_my = pd.DataFrame([sentence1, sentence2], columns = ['text'])\n",
    "print(df_my)\n",
    "\n",
    "\n",
    "print(df_my['text'].apply(lemmatize_text))"
   ]
  },
  {
   "cell_type": "markdown",
   "metadata": {},
   "source": [
    "Разобьем выборку по отношению 80/20. Уменьшим количество кроссвалидаций до 3 из-за размера выборки."
   ]
  },
  {
   "cell_type": "code",
   "execution_count": 8,
   "metadata": {},
   "outputs": [
    {
     "name": "stdout",
     "output_type": "stream",
     "text": [
      "(127433, 137456)\n",
      "(31859, 137456)\n"
     ]
    }
   ],
   "source": [
    "target = toxic_comments['toxic']\n",
    "features = toxic_comments.drop(['toxic'], axis=1)\n",
    "\n",
    "features_train, features_test, target_train, target_test = train_test_split(features, \n",
    "                                                                              target, \n",
    "                                                                              test_size=0.2, \n",
    "                                                                              random_state=12082020)\n",
    "\n",
    "#features_valid, features_test, target_valid, target_test = train_test_split(features_valid, \n",
    "                                                                              #target_valid, \n",
    "                                                                              #test_size=0.5, \n",
    "                                                                              #random_state=12082020)\n",
    "\n",
    "count_tf_idf = TfidfVectorizer()\n",
    "\n",
    "features_train = count_tf_idf.fit_transform(features_train['lemm_text'])\n",
    "#features_valid = count_tf_idf.fit_transform(features_valid['lemm_text'])\n",
    "features_test = count_tf_idf.transform(features_test['lemm_text'])\n",
    "print(features_train.shape)\n",
    "#print(features_valid.shape)\n",
    "print(features_test.shape)\n",
    "cv_counts = 5"
   ]
  },
  {
   "cell_type": "code",
   "execution_count": 9,
   "metadata": {},
   "outputs": [
    {
     "name": "stdout",
     "output_type": "stream",
     "text": [
      "F1 на CV 0.7222025841805128\n"
     ]
    }
   ],
   "source": [
    "classificator = LogisticRegression()\n",
    "train_f1 = cross_val_score(classificator, \n",
    "                      features_train, \n",
    "                      target_train, \n",
    "                      cv=cv_counts, \n",
    "                      scoring='f1').mean()\n",
    "print('F1 на CV', train_f1)"
   ]
  },
  {
   "cell_type": "markdown",
   "metadata": {},
   "source": [
    "### Изменение баланса классов"
   ]
  },
  {
   "cell_type": "markdown",
   "metadata": {},
   "source": [
    "#### Изменение весов классов"
   ]
  },
  {
   "cell_type": "code",
   "execution_count": 10,
   "metadata": {},
   "outputs": [
    {
     "name": "stdout",
     "output_type": "stream",
     "text": [
      "F1 на CV с балансированными классами 0.7625253322425258\n"
     ]
    }
   ],
   "source": [
    "dict_classes={0:1, 1:class_ratio}\n",
    "classificator = LogisticRegression(class_weight=dict_classes)\n",
    "train_f1_ballanced = cross_val_score(classificator, \n",
    "                                    features_train, \n",
    "                                    target_train, \n",
    "                                    cv=cv_counts, \n",
    "                                    scoring='f1').mean()\n",
    "print('F1 на CV с балансированными классами', train_f1_ballanced)"
   ]
  },
  {
   "cell_type": "code",
   "execution_count": 11,
   "metadata": {},
   "outputs": [
    {
     "name": "stdout",
     "output_type": "stream",
     "text": [
      "F1 на CV с балансированными классами 0.7625253322425258\n"
     ]
    }
   ],
   "source": [
    "classificator = LogisticRegression(class_weight='balanced')\n",
    "train_f1_balanced = cross_val_score(classificator, \n",
    "                                    features_train, \n",
    "                                    target_train, \n",
    "                                    cv=cv_counts, \n",
    "                                    scoring='f1').mean()\n",
    "print('F1 на CV с балансированными классами', train_f1_ballanced)"
   ]
  },
  {
   "cell_type": "markdown",
   "metadata": {},
   "source": [
    "Как видно на обучающей выборке F1-мера увеличилась. Встроенный метод повторяет значение F1."
   ]
  },
  {
   "cell_type": "markdown",
   "metadata": {},
   "source": [
    "#### Ресемплирование с уменьшением класса 0"
   ]
  },
  {
   "cell_type": "markdown",
   "metadata": {},
   "source": [
    "Сделаем количество записей с классом 0 таким же, как и количество записей с классом 1."
   ]
  },
  {
   "cell_type": "markdown",
   "metadata": {},
   "source": [
    "Прирост F1-меры ощутимый.\n",
    "\n",
    "Построим ROC-AUC графики и просмотрим таблицу результатов баллансирования."
   ]
  },
  {
   "cell_type": "markdown",
   "metadata": {},
   "source": [
    "Выберем метод балансировки по весу. Удалим ненужные переменные."
   ]
  },
  {
   "cell_type": "markdown",
   "metadata": {},
   "source": [
    "**Выводы по разделу:** \n",
    "\n",
    "В ходе преподготовки были получены признаки для обучения и разделена выборка на обучающую, валидационную и тестовую.\n",
    "\n",
    "На тестировании оптимальными показателями F1 и AUC-ROC обладает классификатор, где учтен вес классов. В обучении мы будем использовать именно этот метод балансирования."
   ]
  },
  {
   "cell_type": "markdown",
   "metadata": {},
   "source": [
    "## Обучение"
   ]
  },
  {
   "cell_type": "markdown",
   "metadata": {},
   "source": [
    "Для обучения выберем следующие модели:\n",
    "\n",
    "- LogisticRegression\n",
    "- DecisionTreeClassifier\n",
    "- CatBoostClassifier\n",
    "- SGDClassifier"
   ]
  },
  {
   "cell_type": "markdown",
   "metadata": {},
   "source": [
    "### Классификатор LogisticRegression"
   ]
  },
  {
   "cell_type": "code",
   "execution_count": 18,
   "metadata": {
    "scrolled": false
   },
   "outputs": [
    {
     "name": "stdout",
     "output_type": "stream",
     "text": [
      "# Tuning hyper-parameters for f1_score\n",
      "\n",
      "Best parameters set found on development set:\n",
      "\n",
      "{'C': 10, 'class_weight': {0: 1, 1: 8.841344371679229}, 'solver': 'lbfgs'}\n",
      "\n",
      "Grid scores on development set:\n",
      "\n",
      "0.727692 for {'C': 0.1, 'class_weight': {0: 1, 1: 8.841344371679229}, 'solver': 'newton-cg'}\n",
      "0.727692 for {'C': 0.1, 'class_weight': {0: 1, 1: 8.841344371679229}, 'solver': 'lbfgs'}\n",
      "0.727770 for {'C': 0.1, 'class_weight': {0: 1, 1: 8.841344371679229}, 'solver': 'liblinear'}\n",
      "0.762540 for {'C': 1, 'class_weight': {0: 1, 1: 8.841344371679229}, 'solver': 'newton-cg'}\n",
      "0.762525 for {'C': 1, 'class_weight': {0: 1, 1: 8.841344371679229}, 'solver': 'lbfgs'}\n",
      "0.762540 for {'C': 1, 'class_weight': {0: 1, 1: 8.841344371679229}, 'solver': 'liblinear'}\n",
      "0.766720 for {'C': 10, 'class_weight': {0: 1, 1: 8.841344371679229}, 'solver': 'newton-cg'}\n",
      "0.768951 for {'C': 10, 'class_weight': {0: 1, 1: 8.841344371679229}, 'solver': 'lbfgs'}\n",
      "0.766811 for {'C': 10, 'class_weight': {0: 1, 1: 8.841344371679229}, 'solver': 'liblinear'}\n",
      "\n"
     ]
    }
   ],
   "source": [
    "classificator = LogisticRegression()\n",
    "hyperparams = [{'solver':['newton-cg', 'lbfgs', 'liblinear'],\n",
    "                'C':[0.1, 1, 10],\n",
    "                'class_weight':[dict_classes]}]\n",
    "\n",
    "\n",
    "print('# Tuning hyper-parameters for f1_score')\n",
    "print()\n",
    "clf = GridSearchCV(classificator, hyperparams, scoring='f1',cv=cv_counts)\n",
    "clf.fit(features_train, target_train)\n",
    "print(\"Best parameters set found on development set:\")\n",
    "print()\n",
    "LR_best_params = clf.best_params_\n",
    "print(LR_best_params)\n",
    "print()\n",
    "print(\"Grid scores on development set:\")\n",
    "print()\n",
    "means = clf.cv_results_['mean_test_score']\n",
    "stds = clf.cv_results_['std_test_score']\n",
    "for mean, std, params in zip(means, stds, clf.cv_results_['params']):\n",
    "    print(\"%0.6f for %r\"% (mean, params))\n",
    "print()\n",
    "\n",
    "cv_f1_LR = max(means)"
   ]
  },
  {
   "cell_type": "code",
   "execution_count": 19,
   "metadata": {},
   "outputs": [
    {
     "name": "stdout",
     "output_type": "stream",
     "text": [
      "F1 на cv 0.7689514701114404\n"
     ]
    }
   ],
   "source": [
    "#classificator = LogisticRegression()\n",
    "#classificator.set_params(**LR_best_params)\n",
    "#classificator.fit(features_train, target_train)\n",
    "#target_predict = classificator.predict(features_valid)\n",
    "#valid_f1_LR = f1_score(target_valid, target_predict)\n",
    "print('F1 на cv', cv_f1_LR)\n",
    "#print('F1 на валидации', valid_f1_LR)"
   ]
  },
  {
   "cell_type": "markdown",
   "metadata": {},
   "source": [
    "### Классификатор DecisionTreeClassifier"
   ]
  },
  {
   "cell_type": "code",
   "execution_count": 20,
   "metadata": {},
   "outputs": [
    {
     "name": "stdout",
     "output_type": "stream",
     "text": [
      "# Tuning hyper-parameters for f1_score\n",
      "\n",
      "Best parameters set found on development set:\n",
      "\n",
      "{'class_weight': {0: 1, 1: 8.841344371679229}, 'max_depth': 44, 'random_state': 12082020}\n",
      "\n",
      "Grid scores on development set:\n",
      "\n",
      "0.660683 for {'class_weight': {0: 1, 1: 8.841344371679229}, 'max_depth': 30, 'random_state': 12082020}\n",
      "0.661586 for {'class_weight': {0: 1, 1: 8.841344371679229}, 'max_depth': 32, 'random_state': 12082020}\n",
      "0.665564 for {'class_weight': {0: 1, 1: 8.841344371679229}, 'max_depth': 34, 'random_state': 12082020}\n",
      "0.666658 for {'class_weight': {0: 1, 1: 8.841344371679229}, 'max_depth': 36, 'random_state': 12082020}\n",
      "0.671529 for {'class_weight': {0: 1, 1: 8.841344371679229}, 'max_depth': 38, 'random_state': 12082020}\n",
      "0.674453 for {'class_weight': {0: 1, 1: 8.841344371679229}, 'max_depth': 40, 'random_state': 12082020}\n",
      "0.676246 for {'class_weight': {0: 1, 1: 8.841344371679229}, 'max_depth': 42, 'random_state': 12082020}\n",
      "0.678735 for {'class_weight': {0: 1, 1: 8.841344371679229}, 'max_depth': 44, 'random_state': 12082020}\n",
      "0.676842 for {'class_weight': {0: 1, 1: 8.841344371679229}, 'max_depth': 46, 'random_state': 12082020}\n",
      "0.670947 for {'class_weight': {0: 1, 1: 8.841344371679229}, 'max_depth': 48, 'random_state': 12082020}\n",
      "0.670758 for {'class_weight': {0: 1, 1: 8.841344371679229}, 'max_depth': 50, 'random_state': 12082020}\n",
      "\n"
     ]
    }
   ],
   "source": [
    "classificator = DecisionTreeClassifier()\n",
    "hyperparams = [{'max_depth':[x for x in range(30,51,2)],\n",
    "                'random_state':[12082020],\n",
    "                'class_weight':[dict_classes]}]\n",
    "\n",
    "\n",
    "print('# Tuning hyper-parameters for f1_score')\n",
    "print()\n",
    "clf = GridSearchCV(classificator, hyperparams, scoring='f1',cv=cv_counts)\n",
    "clf.fit(features_train, target_train)\n",
    "print(\"Best parameters set found on development set:\")\n",
    "print()\n",
    "DTC_best_params = clf.best_params_\n",
    "print(DTC_best_params)\n",
    "print()\n",
    "print(\"Grid scores on development set:\")\n",
    "print()\n",
    "means = clf.cv_results_['mean_test_score']\n",
    "stds = clf.cv_results_['std_test_score']\n",
    "for mean, std, params in zip(means, stds, clf.cv_results_['params']):\n",
    "    print(\"%0.6f for %r\"% (mean, params))\n",
    "print()\n",
    "\n",
    "cv_f1_DTC = max(means)"
   ]
  },
  {
   "cell_type": "code",
   "execution_count": 21,
   "metadata": {},
   "outputs": [
    {
     "name": "stdout",
     "output_type": "stream",
     "text": [
      "F1 на cv 0.6787346175878277\n"
     ]
    }
   ],
   "source": [
    "#classificator = DecisionTreeClassifier()\n",
    "#classificator.set_params(**DTC_best_params)\n",
    "#classificator.fit(features_train, target_train)\n",
    "#target_predict = classificator.predict(features_valid)\n",
    "#valid_f1_DTC = f1_score(target_valid, target_predict)\n",
    "print('F1 на cv', cv_f1_DTC)\n",
    "#print('F1 на валидации', valid_f1_DTC)"
   ]
  },
  {
   "cell_type": "markdown",
   "metadata": {},
   "source": [
    "### Классификатор CatBoostClassifier"
   ]
  },
  {
   "cell_type": "code",
   "execution_count": 22,
   "metadata": {},
   "outputs": [
    {
     "name": "stdout",
     "output_type": "stream",
     "text": [
      "F1 на cv 0.7437599614579807\n"
     ]
    }
   ],
   "source": [
    "classificator = CatBoostClassifier(verbose=False, iterations=200)\n",
    "classificator.fit(features_train, target_train)\n",
    "#target_predict = classificator.predict(features_valid)\n",
    "cv_f1_CBC = cross_val_score(classificator,\n",
    "                            features_train,\n",
    "                            target_train, \n",
    "                            cv=cv_counts,\n",
    "                            scoring='f1').mean()\n",
    "#valid_f1_CBC = f1_score(target_valid, target_predict)\n",
    "print('F1 на cv', cv_f1_CBC)\n",
    "#print('F1 на валидации', valid_f1_CBC)"
   ]
  },
  {
   "cell_type": "markdown",
   "metadata": {},
   "source": [
    "### Классификатор SGDClassifier"
   ]
  },
  {
   "cell_type": "code",
   "execution_count": 23,
   "metadata": {
    "scrolled": true
   },
   "outputs": [
    {
     "name": "stdout",
     "output_type": "stream",
     "text": [
      "# Tuning hyper-parameters for f1_score\n",
      "\n",
      "Best parameters set found on development set:\n",
      "\n",
      "{'class_weight': {0: 1, 1: 8.841344371679229}, 'eta0': 0.1, 'learning_rate': 'adaptive', 'loss': 'modified_huber', 'random_state': 12082020}\n",
      "\n",
      "Grid scores on development set:\n",
      "\n",
      "0.750348 for {'class_weight': {0: 1, 1: 8.841344371679229}, 'eta0': 0.01, 'learning_rate': 'constant', 'loss': 'hinge', 'random_state': 12082020}\n",
      "0.724423 for {'class_weight': {0: 1, 1: 8.841344371679229}, 'eta0': 0.01, 'learning_rate': 'constant', 'loss': 'log', 'random_state': 12082020}\n",
      "0.757369 for {'class_weight': {0: 1, 1: 8.841344371679229}, 'eta0': 0.01, 'learning_rate': 'constant', 'loss': 'modified_huber', 'random_state': 12082020}\n",
      "0.748693 for {'class_weight': {0: 1, 1: 8.841344371679229}, 'eta0': 0.01, 'learning_rate': 'optimal', 'loss': 'hinge', 'random_state': 12082020}\n",
      "0.725499 for {'class_weight': {0: 1, 1: 8.841344371679229}, 'eta0': 0.01, 'learning_rate': 'optimal', 'loss': 'log', 'random_state': 12082020}\n",
      "0.758783 for {'class_weight': {0: 1, 1: 8.841344371679229}, 'eta0': 0.01, 'learning_rate': 'optimal', 'loss': 'modified_huber', 'random_state': 12082020}\n",
      "0.680630 for {'class_weight': {0: 1, 1: 8.841344371679229}, 'eta0': 0.01, 'learning_rate': 'invscaling', 'loss': 'hinge', 'random_state': 12082020}\n",
      "0.648851 for {'class_weight': {0: 1, 1: 8.841344371679229}, 'eta0': 0.01, 'learning_rate': 'invscaling', 'loss': 'log', 'random_state': 12082020}\n",
      "0.671828 for {'class_weight': {0: 1, 1: 8.841344371679229}, 'eta0': 0.01, 'learning_rate': 'invscaling', 'loss': 'modified_huber', 'random_state': 12082020}\n",
      "0.749827 for {'class_weight': {0: 1, 1: 8.841344371679229}, 'eta0': 0.01, 'learning_rate': 'adaptive', 'loss': 'hinge', 'random_state': 12082020}\n",
      "0.726357 for {'class_weight': {0: 1, 1: 8.841344371679229}, 'eta0': 0.01, 'learning_rate': 'adaptive', 'loss': 'log', 'random_state': 12082020}\n",
      "0.762740 for {'class_weight': {0: 1, 1: 8.841344371679229}, 'eta0': 0.01, 'learning_rate': 'adaptive', 'loss': 'modified_huber', 'random_state': 12082020}\n",
      "0.736593 for {'class_weight': {0: 1, 1: 8.841344371679229}, 'eta0': 0.05, 'learning_rate': 'constant', 'loss': 'hinge', 'random_state': 12082020}\n",
      "0.726172 for {'class_weight': {0: 1, 1: 8.841344371679229}, 'eta0': 0.05, 'learning_rate': 'constant', 'loss': 'log', 'random_state': 12082020}\n",
      "0.728842 for {'class_weight': {0: 1, 1: 8.841344371679229}, 'eta0': 0.05, 'learning_rate': 'constant', 'loss': 'modified_huber', 'random_state': 12082020}\n",
      "0.748693 for {'class_weight': {0: 1, 1: 8.841344371679229}, 'eta0': 0.05, 'learning_rate': 'optimal', 'loss': 'hinge', 'random_state': 12082020}\n",
      "0.725499 for {'class_weight': {0: 1, 1: 8.841344371679229}, 'eta0': 0.05, 'learning_rate': 'optimal', 'loss': 'log', 'random_state': 12082020}\n",
      "0.758783 for {'class_weight': {0: 1, 1: 8.841344371679229}, 'eta0': 0.05, 'learning_rate': 'optimal', 'loss': 'modified_huber', 'random_state': 12082020}\n",
      "0.693325 for {'class_weight': {0: 1, 1: 8.841344371679229}, 'eta0': 0.05, 'learning_rate': 'invscaling', 'loss': 'hinge', 'random_state': 12082020}\n",
      "0.669761 for {'class_weight': {0: 1, 1: 8.841344371679229}, 'eta0': 0.05, 'learning_rate': 'invscaling', 'loss': 'log', 'random_state': 12082020}\n",
      "0.687851 for {'class_weight': {0: 1, 1: 8.841344371679229}, 'eta0': 0.05, 'learning_rate': 'invscaling', 'loss': 'modified_huber', 'random_state': 12082020}\n",
      "0.750167 for {'class_weight': {0: 1, 1: 8.841344371679229}, 'eta0': 0.05, 'learning_rate': 'adaptive', 'loss': 'hinge', 'random_state': 12082020}\n",
      "0.727334 for {'class_weight': {0: 1, 1: 8.841344371679229}, 'eta0': 0.05, 'learning_rate': 'adaptive', 'loss': 'log', 'random_state': 12082020}\n",
      "0.763654 for {'class_weight': {0: 1, 1: 8.841344371679229}, 'eta0': 0.05, 'learning_rate': 'adaptive', 'loss': 'modified_huber', 'random_state': 12082020}\n",
      "0.731758 for {'class_weight': {0: 1, 1: 8.841344371679229}, 'eta0': 0.1, 'learning_rate': 'constant', 'loss': 'hinge', 'random_state': 12082020}\n",
      "0.701234 for {'class_weight': {0: 1, 1: 8.841344371679229}, 'eta0': 0.1, 'learning_rate': 'constant', 'loss': 'log', 'random_state': 12082020}\n",
      "0.644072 for {'class_weight': {0: 1, 1: 8.841344371679229}, 'eta0': 0.1, 'learning_rate': 'constant', 'loss': 'modified_huber', 'random_state': 12082020}\n",
      "0.748693 for {'class_weight': {0: 1, 1: 8.841344371679229}, 'eta0': 0.1, 'learning_rate': 'optimal', 'loss': 'hinge', 'random_state': 12082020}\n",
      "0.725499 for {'class_weight': {0: 1, 1: 8.841344371679229}, 'eta0': 0.1, 'learning_rate': 'optimal', 'loss': 'log', 'random_state': 12082020}\n",
      "0.758783 for {'class_weight': {0: 1, 1: 8.841344371679229}, 'eta0': 0.1, 'learning_rate': 'optimal', 'loss': 'modified_huber', 'random_state': 12082020}\n",
      "0.691766 for {'class_weight': {0: 1, 1: 8.841344371679229}, 'eta0': 0.1, 'learning_rate': 'invscaling', 'loss': 'hinge', 'random_state': 12082020}\n",
      "0.668421 for {'class_weight': {0: 1, 1: 8.841344371679229}, 'eta0': 0.1, 'learning_rate': 'invscaling', 'loss': 'log', 'random_state': 12082020}\n",
      "0.703789 for {'class_weight': {0: 1, 1: 8.841344371679229}, 'eta0': 0.1, 'learning_rate': 'invscaling', 'loss': 'modified_huber', 'random_state': 12082020}\n",
      "0.750674 for {'class_weight': {0: 1, 1: 8.841344371679229}, 'eta0': 0.1, 'learning_rate': 'adaptive', 'loss': 'hinge', 'random_state': 12082020}\n",
      "0.727118 for {'class_weight': {0: 1, 1: 8.841344371679229}, 'eta0': 0.1, 'learning_rate': 'adaptive', 'loss': 'log', 'random_state': 12082020}\n",
      "0.763703 for {'class_weight': {0: 1, 1: 8.841344371679229}, 'eta0': 0.1, 'learning_rate': 'adaptive', 'loss': 'modified_huber', 'random_state': 12082020}\n",
      "0.688999 for {'class_weight': {0: 1, 1: 8.841344371679229}, 'eta0': 0.2, 'learning_rate': 'constant', 'loss': 'hinge', 'random_state': 12082020}\n",
      "0.685764 for {'class_weight': {0: 1, 1: 8.841344371679229}, 'eta0': 0.2, 'learning_rate': 'constant', 'loss': 'log', 'random_state': 12082020}\n",
      "0.578256 for {'class_weight': {0: 1, 1: 8.841344371679229}, 'eta0': 0.2, 'learning_rate': 'constant', 'loss': 'modified_huber', 'random_state': 12082020}\n",
      "0.748693 for {'class_weight': {0: 1, 1: 8.841344371679229}, 'eta0': 0.2, 'learning_rate': 'optimal', 'loss': 'hinge', 'random_state': 12082020}\n",
      "0.725499 for {'class_weight': {0: 1, 1: 8.841344371679229}, 'eta0': 0.2, 'learning_rate': 'optimal', 'loss': 'log', 'random_state': 12082020}\n",
      "0.758783 for {'class_weight': {0: 1, 1: 8.841344371679229}, 'eta0': 0.2, 'learning_rate': 'optimal', 'loss': 'modified_huber', 'random_state': 12082020}\n",
      "0.697928 for {'class_weight': {0: 1, 1: 8.841344371679229}, 'eta0': 0.2, 'learning_rate': 'invscaling', 'loss': 'hinge', 'random_state': 12082020}\n",
      "0.668850 for {'class_weight': {0: 1, 1: 8.841344371679229}, 'eta0': 0.2, 'learning_rate': 'invscaling', 'loss': 'log', 'random_state': 12082020}\n",
      "0.724277 for {'class_weight': {0: 1, 1: 8.841344371679229}, 'eta0': 0.2, 'learning_rate': 'invscaling', 'loss': 'modified_huber', 'random_state': 12082020}\n",
      "0.749984 for {'class_weight': {0: 1, 1: 8.841344371679229}, 'eta0': 0.2, 'learning_rate': 'adaptive', 'loss': 'hinge', 'random_state': 12082020}\n",
      "0.726994 for {'class_weight': {0: 1, 1: 8.841344371679229}, 'eta0': 0.2, 'learning_rate': 'adaptive', 'loss': 'log', 'random_state': 12082020}\n",
      "0.763311 for {'class_weight': {0: 1, 1: 8.841344371679229}, 'eta0': 0.2, 'learning_rate': 'adaptive', 'loss': 'modified_huber', 'random_state': 12082020}\n",
      "0.650550 for {'class_weight': {0: 1, 1: 8.841344371679229}, 'eta0': 0.3, 'learning_rate': 'constant', 'loss': 'hinge', 'random_state': 12082020}\n",
      "0.677152 for {'class_weight': {0: 1, 1: 8.841344371679229}, 'eta0': 0.3, 'learning_rate': 'constant', 'loss': 'log', 'random_state': 12082020}\n",
      "0.574653 for {'class_weight': {0: 1, 1: 8.841344371679229}, 'eta0': 0.3, 'learning_rate': 'constant', 'loss': 'modified_huber', 'random_state': 12082020}\n",
      "0.748693 for {'class_weight': {0: 1, 1: 8.841344371679229}, 'eta0': 0.3, 'learning_rate': 'optimal', 'loss': 'hinge', 'random_state': 12082020}\n",
      "0.725499 for {'class_weight': {0: 1, 1: 8.841344371679229}, 'eta0': 0.3, 'learning_rate': 'optimal', 'loss': 'log', 'random_state': 12082020}\n",
      "0.758783 for {'class_weight': {0: 1, 1: 8.841344371679229}, 'eta0': 0.3, 'learning_rate': 'optimal', 'loss': 'modified_huber', 'random_state': 12082020}\n",
      "0.706598 for {'class_weight': {0: 1, 1: 8.841344371679229}, 'eta0': 0.3, 'learning_rate': 'invscaling', 'loss': 'hinge', 'random_state': 12082020}\n",
      "0.672252 for {'class_weight': {0: 1, 1: 8.841344371679229}, 'eta0': 0.3, 'learning_rate': 'invscaling', 'loss': 'log', 'random_state': 12082020}\n",
      "0.733244 for {'class_weight': {0: 1, 1: 8.841344371679229}, 'eta0': 0.3, 'learning_rate': 'invscaling', 'loss': 'modified_huber', 'random_state': 12082020}\n",
      "0.750168 for {'class_weight': {0: 1, 1: 8.841344371679229}, 'eta0': 0.3, 'learning_rate': 'adaptive', 'loss': 'hinge', 'random_state': 12082020}\n",
      "0.726859 for {'class_weight': {0: 1, 1: 8.841344371679229}, 'eta0': 0.3, 'learning_rate': 'adaptive', 'loss': 'log', 'random_state': 12082020}\n",
      "0.763115 for {'class_weight': {0: 1, 1: 8.841344371679229}, 'eta0': 0.3, 'learning_rate': 'adaptive', 'loss': 'modified_huber', 'random_state': 12082020}\n",
      "0.610899 for {'class_weight': {0: 1, 1: 8.841344371679229}, 'eta0': 0.5, 'learning_rate': 'constant', 'loss': 'hinge', 'random_state': 12082020}\n",
      "0.654102 for {'class_weight': {0: 1, 1: 8.841344371679229}, 'eta0': 0.5, 'learning_rate': 'constant', 'loss': 'log', 'random_state': 12082020}\n",
      "0.537102 for {'class_weight': {0: 1, 1: 8.841344371679229}, 'eta0': 0.5, 'learning_rate': 'constant', 'loss': 'modified_huber', 'random_state': 12082020}\n",
      "0.748693 for {'class_weight': {0: 1, 1: 8.841344371679229}, 'eta0': 0.5, 'learning_rate': 'optimal', 'loss': 'hinge', 'random_state': 12082020}\n",
      "0.725499 for {'class_weight': {0: 1, 1: 8.841344371679229}, 'eta0': 0.5, 'learning_rate': 'optimal', 'loss': 'log', 'random_state': 12082020}\n",
      "0.758783 for {'class_weight': {0: 1, 1: 8.841344371679229}, 'eta0': 0.5, 'learning_rate': 'optimal', 'loss': 'modified_huber', 'random_state': 12082020}\n",
      "0.719545 for {'class_weight': {0: 1, 1: 8.841344371679229}, 'eta0': 0.5, 'learning_rate': 'invscaling', 'loss': 'hinge', 'random_state': 12082020}\n",
      "0.679724 for {'class_weight': {0: 1, 1: 8.841344371679229}, 'eta0': 0.5, 'learning_rate': 'invscaling', 'loss': 'log', 'random_state': 12082020}\n",
      "0.745512 for {'class_weight': {0: 1, 1: 8.841344371679229}, 'eta0': 0.5, 'learning_rate': 'invscaling', 'loss': 'modified_huber', 'random_state': 12082020}\n",
      "0.749990 for {'class_weight': {0: 1, 1: 8.841344371679229}, 'eta0': 0.5, 'learning_rate': 'adaptive', 'loss': 'hinge', 'random_state': 12082020}\n",
      "0.727191 for {'class_weight': {0: 1, 1: 8.841344371679229}, 'eta0': 0.5, 'learning_rate': 'adaptive', 'loss': 'log', 'random_state': 12082020}\n",
      "0.763642 for {'class_weight': {0: 1, 1: 8.841344371679229}, 'eta0': 0.5, 'learning_rate': 'adaptive', 'loss': 'modified_huber', 'random_state': 12082020}\n",
      "\n"
     ]
    }
   ],
   "source": [
    "classificator = SGDClassifier()\n",
    "hyperparams = [{'loss':['hinge', 'log', 'modified_huber'],\n",
    "                'learning_rate':['constant', 'optimal', 'invscaling', 'adaptive'],\n",
    "                'eta0':[0.01, 0.05, 0.1, 0.2, 0.3, 0.5],\n",
    "                'random_state':[12082020],\n",
    "                'class_weight':[dict_classes]}]\n",
    "\n",
    "\n",
    "print('# Tuning hyper-parameters for f1_score')\n",
    "print()\n",
    "clf = GridSearchCV(classificator, hyperparams, scoring='f1',cv=cv_counts)\n",
    "clf.fit(features_train, target_train)\n",
    "print(\"Best parameters set found on development set:\")\n",
    "print()\n",
    "SGDC_best_params = clf.best_params_\n",
    "print(SGDC_best_params)\n",
    "print()\n",
    "print(\"Grid scores on development set:\")\n",
    "print()\n",
    "means = clf.cv_results_['mean_test_score']\n",
    "stds = clf.cv_results_['std_test_score']\n",
    "for mean, std, params in zip(means, stds, clf.cv_results_['params']):\n",
    "    print(\"%0.6f for %r\"% (mean, params))\n",
    "print()\n",
    "\n",
    "cv_f1_SGDC = max(means)"
   ]
  },
  {
   "cell_type": "code",
   "execution_count": 24,
   "metadata": {},
   "outputs": [
    {
     "name": "stdout",
     "output_type": "stream",
     "text": [
      "F1 на cv 0.7637030296787671\n"
     ]
    }
   ],
   "source": [
    "#classificator = SGDClassifier()\n",
    "#classificator.set_params(**SGDC_best_params)\n",
    "#classificator.fit(features_train, target_train)\n",
    "#arget_predict = classificator.predict(features_valid)\n",
    "#valid_f1_SGDC = f1_score(target_valid, target_predict)\n",
    "print('F1 на cv', cv_f1_SGDC)\n",
    "#print('F1 на валидации', valid_f1_SGDC)"
   ]
  },
  {
   "cell_type": "markdown",
   "metadata": {},
   "source": [
    "Выведем таблицу валидации лучших моделей."
   ]
  },
  {
   "cell_type": "code",
   "execution_count": 25,
   "metadata": {},
   "outputs": [
    {
     "data": {
      "text/html": [
       "<div>\n",
       "<style scoped>\n",
       "    .dataframe tbody tr th:only-of-type {\n",
       "        vertical-align: middle;\n",
       "    }\n",
       "\n",
       "    .dataframe tbody tr th {\n",
       "        vertical-align: top;\n",
       "    }\n",
       "\n",
       "    .dataframe thead th {\n",
       "        text-align: right;\n",
       "    }\n",
       "</style>\n",
       "<table border=\"1\" class=\"dataframe\">\n",
       "  <thead>\n",
       "    <tr style=\"text-align: right;\">\n",
       "      <th></th>\n",
       "      <th>F1 на CV</th>\n",
       "      <th>Выполнение задачи</th>\n",
       "    </tr>\n",
       "  </thead>\n",
       "  <tbody>\n",
       "    <tr>\n",
       "      <th>LogisticRegression</th>\n",
       "      <td>0.768951</td>\n",
       "      <td>True</td>\n",
       "    </tr>\n",
       "    <tr>\n",
       "      <th>DecisionTreeClassifier</th>\n",
       "      <td>0.678735</td>\n",
       "      <td>False</td>\n",
       "    </tr>\n",
       "    <tr>\n",
       "      <th>CatBoostClassifier</th>\n",
       "      <td>0.743760</td>\n",
       "      <td>False</td>\n",
       "    </tr>\n",
       "    <tr>\n",
       "      <th>SGDClassifier</th>\n",
       "      <td>0.763703</td>\n",
       "      <td>True</td>\n",
       "    </tr>\n",
       "  </tbody>\n",
       "</table>\n",
       "</div>"
      ],
      "text/plain": [
       "                        F1 на CV  Выполнение задачи\n",
       "LogisticRegression      0.768951               True\n",
       "DecisionTreeClassifier  0.678735              False\n",
       "CatBoostClassifier      0.743760              False\n",
       "SGDClassifier           0.763703               True"
      ]
     },
     "execution_count": 25,
     "metadata": {},
     "output_type": "execute_result"
    }
   ],
   "source": [
    "index = ['LogisticRegression',\n",
    "         'DecisionTreeClassifier',\n",
    "         'CatBoostClassifier',\n",
    "         'SGDClassifier']\n",
    "data = {'F1 на CV':[cv_f1_LR,\n",
    "                    cv_f1_DTC,\n",
    "                    cv_f1_CBC,\n",
    "                    cv_f1_SGDC]}\n",
    "        #'F1 на валидации':[valid_f1_LR,\n",
    "                          # valid_f1_DTC,\n",
    "                           #valid_f1_CBC,\n",
    "                           #valid_f1_SGDC]}\n",
    "\n",
    "scores_data = pd.DataFrame(data=data, index=index)\n",
    "scores_data['Выполнение задачи'] = scores_data['F1 на CV'] > 0.75\n",
    "scores_data"
   ]
  },
  {
   "cell_type": "markdown",
   "metadata": {},
   "source": [
    "**Выводы по разделу:** \n",
    "\n",
    "К тестовому набору данных перейдёт LogisticRegression."
   ]
  },
  {
   "cell_type": "markdown",
   "metadata": {},
   "source": [
    "## Выводы"
   ]
  },
  {
   "cell_type": "markdown",
   "metadata": {},
   "source": [
    "Проведем получение F1-меры, precision, recall, accuracy и roc_auc. Так же построим графики."
   ]
  },
  {
   "cell_type": "code",
   "execution_count": 26,
   "metadata": {
    "scrolled": true
   },
   "outputs": [
    {
     "name": "stdout",
     "output_type": "stream",
     "text": [
      "Метрики LogisticRegression\n",
      "ROC AUC: 0.9628145127417002\n",
      "F1: 0.7533969355305002\n",
      "Precision: 0.7035637149028078\n",
      "Recall: 0.8108276291225887\n",
      "Accuracy: 0.9464515521516683\n",
      "\n"
     ]
    },
    {
     "data": {
      "image/png": "[encoded data removed]",
      "text/plain": [
       "<Figure size 864x648 with 1 Axes>"
      ]
     },
     "metadata": {
      "needs_background": "light"
     },
     "output_type": "display_data"
    }
   ],
   "source": [
    "plt.figure(figsize=[12,9])\n",
    "\n",
    "plt.plot([0, 1], [0, 1], linestyle='--', label='RandomModel')\n",
    "\n",
    "\n",
    "classificator = LogisticRegression()\n",
    "classificator.set_params(**LR_best_params)\n",
    "classificator.fit(features_train, target_train)\n",
    "probabilities_test = classificator.predict_proba(features_test)\n",
    "probabilities_one_test = probabilities_test[:, 1]\n",
    "fpr, tpr, thresholds = roc_curve(target_test, probabilities_one_test)\n",
    "predict_test = classificator.predict(features_test)\n",
    "plt.plot(fpr, tpr, label='LogisticRegression')\n",
    "print('Метрики LogisticRegression')\n",
    "print('ROC AUC:', roc_auc_score(target_test, probabilities_one_test))\n",
    "print('F1:', f1_score(target_test, predict_test))\n",
    "print('Precision:', precision_score(target_test, predict_test))\n",
    "print('Recall:', recall_score(target_test, predict_test))\n",
    "print('Accuracy:', accuracy_score(target_test, predict_test))\n",
    "print()\n",
    "\n",
    "\n",
    "plt.xlim([0,1])\n",
    "plt.ylim([0,1])\n",
    "\n",
    "plt.xlabel(\"False Positive Rate\")\n",
    "plt.ylabel(\"True Positive Rate\")\n",
    "\n",
    "plt.legend(loc='lower right', fontsize='x-large')\n",
    "\n",
    "plt.title(\"ROC-кривая\")\n",
    "plt.show()"
   ]
  },
  {
   "cell_type": "markdown",
   "metadata": {},
   "source": [
    "В ходе работы над проектом было сделано:\n",
    "\n",
    "- Подготовленны данные обучения на моделях.\n",
    "- Выбран способ баланса классов и поделены данные на обучающую, валидационную и тестовою выборку.\n",
    "- Обучены модели и выбраны лучшие из них на валидационной выборке.\n",
    "- Показаны параметры качества моделей.\n",
    "\n",
    "Исходные данные обладают большим количеством признаков. Созданных столбцов больше, чем записей данных. Так как TF-IDF превращают текст в численные значения, лучшими моделями стали LogisticRegression и SGDClassifier. CatBoostClassifier может показать себя очень хорошо при долгом обучении на данных. В ходе тестов данный классификатор мог обучатся до 5 часов.\n",
    "\n",
    "На тестовой выбоке по метрике F1 лучше всего себя показал LogisticRegression всего на 0.09. Данная модель обладает большими показателями Precision и Accuracy. Это говорит нам, что токсичные комментарии находятся лучше.\n",
    "\n",
    "SGDClassifier показал себя лучше в ROC AUC и Recall метриках. Модель способна обработать больше записей."
   ]
  },
  {
   "cell_type": "markdown",
   "metadata": {},
   "source": [
    "## Чек-лист проверки"
   ]
  },
  {
   "cell_type": "markdown",
   "metadata": {},
   "source": [
    "- [x]  Jupyter Notebook открыт\n",
    "- [x]  Весь код выполняется без ошибок\n",
    "- [x]  Ячейки с кодом расположены в порядке исполнения\n",
    "- [x]  Данные загружены и подготовлены\n",
    "- [x]  Модели обучены\n",
    "- [x]  Значение метрики *F1* не меньше 0.75\n",
    "- [x]  Выводы написаны"
   ]
  }
 ],
 "metadata": {
  "ExecuteTimeLog": [
   {
    "duration": 1907,
    "start_time": "2025-05-08T00:12:25.195Z"
   },
   {
    "duration": 995,
    "start_time": "2025-05-08T00:12:45.377Z"
   },
   {
    "duration": 11,
    "start_time": "2025-05-08T00:13:11.993Z"
   },
   {
    "duration": 13,
    "start_time": "2025-05-08T00:14:12.579Z"
   },
   {
    "duration": 248,
    "start_time": "2025-05-08T00:17:45.637Z"
   },
   {
    "duration": 93537,
    "start_time": "2025-05-08T00:18:58.059Z"
   },
   {
    "duration": 12954,
    "start_time": "2025-05-08T00:21:20.146Z"
   },
   {
    "duration": 6,
    "start_time": "2025-05-08T01:35:33.866Z"
   },
   {
    "duration": 42,
    "start_time": "2025-05-08T01:36:42.418Z"
   },
   {
    "duration": 57,
    "start_time": "2025-05-08T01:37:08.929Z"
   },
   {
    "duration": 110798,
    "start_time": "2025-05-08T01:37:58.425Z"
   },
   {
    "duration": 1661,
    "start_time": "2025-05-08T01:40:11.454Z"
   },
   {
    "duration": 963,
    "start_time": "2025-05-08T01:40:13.117Z"
   },
   {
    "duration": 12,
    "start_time": "2025-05-08T01:40:14.083Z"
   },
   {
    "duration": 283,
    "start_time": "2025-05-08T01:40:14.104Z"
   },
   {
    "duration": 17,
    "start_time": "2025-05-08T01:40:14.390Z"
   },
   {
    "duration": 93662,
    "start_time": "2025-05-08T01:40:14.409Z"
   },
   {
    "duration": 12833,
    "start_time": "2025-05-08T01:41:48.073Z"
   },
   {
    "duration": 111504,
    "start_time": "2025-05-08T01:42:00.907Z"
   },
   {
    "duration": 124301,
    "start_time": "2025-05-08T01:48:44.105Z"
   },
   {
    "duration": 69112,
    "start_time": "2025-05-08T01:51:07.798Z"
   },
   {
    "duration": 28,
    "start_time": "2025-05-08T01:52:36.937Z"
   },
   {
    "duration": 1498,
    "start_time": "2025-05-08T01:52:58.945Z"
   },
   {
    "duration": 43230,
    "start_time": "2025-05-08T01:53:19.376Z"
   },
   {
    "duration": 97527,
    "start_time": "2025-05-08T01:54:27.694Z"
   },
   {
    "duration": 11,
    "start_time": "2025-05-08T01:56:36.312Z"
   },
   {
    "duration": 18,
    "start_time": "2025-05-08T01:57:14.200Z"
   },
   {
    "duration": 629379,
    "start_time": "2025-05-08T02:00:39.627Z"
   },
   {
    "duration": 45965,
    "start_time": "2025-05-08T02:12:18.442Z"
   },
   {
    "duration": 789996,
    "start_time": "2025-05-08T02:16:40.601Z"
   },
   {
    "duration": 1688,
    "start_time": "2025-05-08T03:29:12.673Z"
   },
   {
    "duration": 1093,
    "start_time": "2025-05-08T03:29:14.362Z"
   },
   {
    "duration": 12,
    "start_time": "2025-05-08T03:29:15.457Z"
   },
   {
    "duration": 292,
    "start_time": "2025-05-08T03:29:15.471Z"
   },
   {
    "duration": 13,
    "start_time": "2025-05-08T03:29:15.766Z"
   },
   {
    "duration": 109370,
    "start_time": "2025-05-08T03:29:15.781Z"
   },
   {
    "duration": 13005,
    "start_time": "2025-05-08T03:31:05.153Z"
   },
   {
    "duration": 113871,
    "start_time": "2025-05-08T03:31:18.160Z"
   },
   {
    "duration": 125777,
    "start_time": "2025-05-08T03:33:12.033Z"
   },
   {
    "duration": 72296,
    "start_time": "2025-05-08T03:35:17.811Z"
   },
   {
    "duration": 36,
    "start_time": "2025-05-08T03:36:30.109Z"
   },
   {
    "duration": 1502,
    "start_time": "2025-05-08T03:36:30.147Z"
   },
   {
    "duration": 46469,
    "start_time": "2025-05-08T03:36:31.651Z"
   },
   {
    "duration": 100821,
    "start_time": "2025-05-08T03:37:18.208Z"
   },
   {
    "duration": 15,
    "start_time": "2025-05-08T03:38:59.031Z"
   },
   {
    "duration": 75,
    "start_time": "2025-05-08T03:38:59.048Z"
   },
   {
    "duration": 655988,
    "start_time": "2025-05-08T03:38:59.125Z"
   },
   {
    "duration": 46906,
    "start_time": "2025-05-08T03:49:55.118Z"
   },
   {
    "duration": 771782,
    "start_time": "2025-05-08T03:50:42.026Z"
   },
   {
    "duration": 34878,
    "start_time": "2025-05-08T04:03:33.810Z"
   },
   {
    "duration": 1724955,
    "start_time": "2025-05-08T04:04:08.690Z"
   },
   {
    "duration": 190901,
    "start_time": "2025-05-08T04:32:53.647Z"
   },
   {
    "duration": 1721,
    "start_time": "2025-05-08T04:36:04.549Z"
   },
   {
    "duration": 12,
    "start_time": "2025-05-08T04:36:06.272Z"
   },
   {
    "duration": 46365,
    "start_time": "2025-05-08T04:45:15.609Z"
   },
   {
    "duration": 5286,
    "start_time": "2025-05-09T01:25:17.149Z"
   },
   {
    "duration": 977,
    "start_time": "2025-05-09T01:25:32.364Z"
   },
   {
    "duration": 12,
    "start_time": "2025-05-09T01:25:34.772Z"
   },
   {
    "duration": 247,
    "start_time": "2025-05-09T01:25:37.382Z"
   },
   {
    "duration": 11,
    "start_time": "2025-05-09T01:25:40.714Z"
   },
   {
    "duration": 4,
    "start_time": "2025-05-09T01:50:02.416Z"
   },
   {
    "duration": 1272,
    "start_time": "2025-05-09T02:03:43.015Z"
   },
   {
    "duration": 497,
    "start_time": "2025-05-09T02:05:22.892Z"
   },
   {
    "duration": 699,
    "start_time": "2025-05-09T02:06:39.020Z"
   },
   {
    "duration": 4434,
    "start_time": "2025-05-09T02:41:39.778Z"
   },
   {
    "duration": 1748,
    "start_time": "2025-05-09T02:41:44.214Z"
   },
   {
    "duration": 11,
    "start_time": "2025-05-09T02:41:45.963Z"
   },
   {
    "duration": 282,
    "start_time": "2025-05-09T02:41:45.976Z"
   },
   {
    "duration": 14,
    "start_time": "2025-05-09T02:41:46.259Z"
   },
   {
    "duration": 2350607,
    "start_time": "2025-05-09T02:41:46.274Z"
   },
   {
    "duration": 26,
    "start_time": "2025-05-09T03:20:56.883Z"
   },
   {
    "duration": 682,
    "start_time": "2025-05-09T03:20:56.911Z"
   },
   {
    "duration": 0,
    "start_time": "2025-05-09T03:20:57.595Z"
   },
   {
    "duration": 0,
    "start_time": "2025-05-09T03:20:57.597Z"
   },
   {
    "duration": 0,
    "start_time": "2025-05-09T03:20:57.605Z"
   },
   {
    "duration": 0,
    "start_time": "2025-05-09T03:20:57.606Z"
   },
   {
    "duration": 0,
    "start_time": "2025-05-09T03:20:57.608Z"
   },
   {
    "duration": 0,
    "start_time": "2025-05-09T03:20:57.609Z"
   },
   {
    "duration": 0,
    "start_time": "2025-05-09T03:20:57.610Z"
   },
   {
    "duration": 0,
    "start_time": "2025-05-09T03:20:57.611Z"
   },
   {
    "duration": 0,
    "start_time": "2025-05-09T03:20:57.612Z"
   },
   {
    "duration": 0,
    "start_time": "2025-05-09T03:20:57.613Z"
   },
   {
    "duration": 0,
    "start_time": "2025-05-09T03:20:57.614Z"
   },
   {
    "duration": 0,
    "start_time": "2025-05-09T03:20:57.616Z"
   },
   {
    "duration": 0,
    "start_time": "2025-05-09T03:20:57.617Z"
   },
   {
    "duration": 0,
    "start_time": "2025-05-09T03:20:57.618Z"
   },
   {
    "duration": 0,
    "start_time": "2025-05-09T03:20:57.619Z"
   },
   {
    "duration": 0,
    "start_time": "2025-05-09T03:20:57.620Z"
   },
   {
    "duration": 0,
    "start_time": "2025-05-09T03:20:57.621Z"
   },
   {
    "duration": 0,
    "start_time": "2025-05-09T03:20:57.622Z"
   },
   {
    "duration": 4574,
    "start_time": "2025-05-09T04:11:15.500Z"
   },
   {
    "duration": 4685,
    "start_time": "2025-05-09T04:17:12.261Z"
   },
   {
    "duration": 31822,
    "start_time": "2025-05-09T04:17:25.114Z"
   },
   {
    "duration": 161020,
    "start_time": "2025-05-09T04:20:46.496Z"
   },
   {
    "duration": 201850,
    "start_time": "2025-05-09T04:32:22.973Z"
   },
   {
    "duration": 150896,
    "start_time": "2025-05-09T04:35:51.410Z"
   },
   {
    "duration": 29,
    "start_time": "2025-05-09T04:38:33.303Z"
   },
   {
    "duration": 521,
    "start_time": "2025-05-09T04:38:35.046Z"
   },
   {
    "duration": 29,
    "start_time": "2025-05-09T04:38:42.185Z"
   },
   {
    "duration": 4889,
    "start_time": "2025-05-09T04:39:32.430Z"
   },
   {
    "duration": 495,
    "start_time": "2025-05-09T04:39:47.492Z"
   },
   {
    "duration": 61365,
    "start_time": "2025-05-09T04:39:56.056Z"
   },
   {
    "duration": 95016,
    "start_time": "2025-05-09T04:41:03.518Z"
   },
   {
    "duration": 11,
    "start_time": "2025-05-09T04:43:21.438Z"
   },
   {
    "duration": 6,
    "start_time": "2025-05-09T04:44:00.047Z"
   },
   {
    "duration": 1092795,
    "start_time": "2025-05-09T04:47:06.136Z"
   },
   {
    "duration": 38761,
    "start_time": "2025-05-09T05:06:39.306Z"
   },
   {
    "duration": 1329212,
    "start_time": "2025-05-09T05:07:40.011Z"
   },
   {
    "duration": 27486,
    "start_time": "2025-05-09T05:30:11.840Z"
   },
   {
    "duration": 1826998,
    "start_time": "2025-05-09T05:30:44.738Z"
   },
   {
    "duration": 344283,
    "start_time": "2025-05-09T06:03:30.644Z"
   },
   {
    "duration": 1537,
    "start_time": "2025-05-09T06:10:40.844Z"
   },
   {
    "duration": 15,
    "start_time": "2025-05-09T06:10:49.331Z"
   },
   {
    "duration": 38689,
    "start_time": "2025-05-09T06:11:32.673Z"
   },
   {
    "duration": 4550,
    "start_time": "2025-05-11T01:08:54.002Z"
   },
   {
    "duration": 940,
    "start_time": "2025-05-11T01:08:58.554Z"
   },
   {
    "duration": 11,
    "start_time": "2025-05-11T01:08:59.495Z"
   },
   {
    "duration": 256,
    "start_time": "2025-05-11T01:08:59.509Z"
   },
   {
    "duration": 12,
    "start_time": "2025-05-11T01:08:59.766Z"
   },
   {
    "duration": 2196982,
    "start_time": "2025-05-11T01:08:59.780Z"
   },
   {
    "duration": 21,
    "start_time": "2025-05-11T01:45:36.764Z"
   },
   {
    "duration": 4487,
    "start_time": "2025-05-11T01:45:36.787Z"
   },
   {
    "duration": 181360,
    "start_time": "2025-05-11T01:45:41.276Z"
   },
   {
    "duration": 222402,
    "start_time": "2025-05-11T01:48:42.639Z"
   },
   {
    "duration": 175203,
    "start_time": "2025-05-11T01:52:25.043Z"
   },
   {
    "duration": 3,
    "start_time": "2025-05-11T01:55:20.250Z"
   },
   {
    "duration": 2,
    "start_time": "2025-05-11T01:55:20.337Z"
   },
   {
    "duration": 50,
    "start_time": "2025-05-11T01:55:20.341Z"
   },
   {
    "duration": 6,
    "start_time": "2025-05-11T01:55:20.393Z"
   },
   {
    "duration": 7,
    "start_time": "2025-05-11T01:55:20.401Z"
   },
   {
    "duration": 8,
    "start_time": "2025-05-11T01:55:20.409Z"
   },
   {
    "duration": 1349920,
    "start_time": "2025-05-11T01:55:20.419Z"
   },
   {
    "duration": 4,
    "start_time": "2025-05-11T02:17:50.342Z"
   },
   {
    "duration": 1873930,
    "start_time": "2025-05-11T02:17:50.348Z"
   },
   {
    "duration": 3,
    "start_time": "2025-05-11T02:49:04.280Z"
   },
   {
    "duration": 365,
    "start_time": "2025-05-11T02:49:04.284Z"
   },
   {
    "duration": 0,
    "start_time": "2025-05-11T02:49:04.651Z"
   },
   {
    "duration": 0,
    "start_time": "2025-05-11T02:49:04.652Z"
   },
   {
    "duration": 0,
    "start_time": "2025-05-11T02:49:04.653Z"
   },
   {
    "duration": 0,
    "start_time": "2025-05-11T02:49:04.654Z"
   },
   {
    "duration": 429364,
    "start_time": "2025-05-11T03:05:36.195Z"
   },
   {
    "duration": 2210918,
    "start_time": "2025-05-11T03:22:41.259Z"
   },
   {
    "duration": 4717,
    "start_time": "2025-05-12T09:28:37.303Z"
   },
   {
    "duration": 991,
    "start_time": "2025-05-12T09:28:42.022Z"
   },
   {
    "duration": 13,
    "start_time": "2025-05-12T09:28:43.014Z"
   },
   {
    "duration": 277,
    "start_time": "2025-05-12T09:28:43.030Z"
   },
   {
    "duration": 11,
    "start_time": "2025-05-12T09:28:43.309Z"
   },
   {
    "duration": 2384468,
    "start_time": "2025-05-12T09:28:43.322Z"
   },
   {
    "duration": 31,
    "start_time": "2025-05-12T10:08:27.791Z"
   },
   {
    "duration": 4719,
    "start_time": "2025-05-12T10:08:27.824Z"
   },
   {
    "duration": 207560,
    "start_time": "2025-05-12T10:08:32.545Z"
   },
   {
    "duration": 242897,
    "start_time": "2025-05-12T10:12:00.109Z"
   },
   {
    "duration": 178597,
    "start_time": "2025-05-12T10:16:03.008Z"
   },
   {
    "duration": 2,
    "start_time": "2025-05-12T10:19:01.608Z"
   },
   {
    "duration": 33,
    "start_time": "2025-05-12T10:19:01.611Z"
   },
   {
    "duration": 17,
    "start_time": "2025-05-12T10:19:01.645Z"
   },
   {
    "duration": 20,
    "start_time": "2025-05-12T10:19:01.663Z"
   },
   {
    "duration": 56,
    "start_time": "2025-05-12T10:19:01.684Z"
   },
   {
    "duration": 69,
    "start_time": "2025-05-12T10:19:01.742Z"
   },
   {
    "duration": 1377596,
    "start_time": "2025-05-12T10:19:01.813Z"
   },
   {
    "duration": 92,
    "start_time": "2025-05-12T10:41:59.416Z"
   },
   {
    "duration": 2036560,
    "start_time": "2025-05-12T10:41:59.510Z"
   },
   {
    "duration": 4,
    "start_time": "2025-05-12T11:15:56.072Z"
   },
   {
    "duration": 2327538,
    "start_time": "2025-05-12T11:15:56.077Z"
   },
   {
    "duration": 461493,
    "start_time": "2025-05-12T11:54:43.617Z"
   },
   {
    "duration": 4,
    "start_time": "2025-05-12T12:02:25.112Z"
   },
   {
    "duration": 62,
    "start_time": "2025-05-12T12:02:25.118Z"
   },
   {
    "duration": 47753,
    "start_time": "2025-05-12T12:02:25.182Z"
   }
  ],
  "kernelspec": {
   "display_name": "Python 3 (ipykernel)",
   "language": "python",
   "name": "python3"
  },
  "language_info": {
   "codemirror_mode": {
    "name": "ipython",
    "version": 3
   },
   "file_extension": ".py",
   "mimetype": "text/x-python",
   "name": "python",
   "nbconvert_exporter": "python",
   "pygments_lexer": "ipython3",
   "version": "3.11.5"
  },
  "toc": {
   "base_numbering": 1,
   "nav_menu": {},
   "number_sections": true,
   "sideBar": true,
   "skip_h1_title": true,
   "title_cell": "Содержание",
   "title_sidebar": "Contents",
   "toc_cell": true,
   "toc_position": {
    "height": "calc(100% - 180px)",
    "left": "10px",
    "top": "150px",
    "width": "165px"
   },
   "toc_section_display": true,
   "toc_window_display": true
  }
 },
 "nbformat": 4,
 "nbformat_minor": 2
}
